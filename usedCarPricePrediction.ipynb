{
 "cells": [
  {
   "cell_type": "markdown",
   "metadata": {},
   "source": [
    "# Predicting used car prices"
   ]
  },
  {
   "cell_type": "code",
   "execution_count": 1,
   "metadata": {},
   "outputs": [],
   "source": [
    "import datetime\n",
    "\n",
    "import numpy as np\n",
    "import pandas as pd\n",
    "\n",
    "import matplotlib.pyplot as plt\n",
    "import seaborn as sns\n",
    "%matplotlib inline\n",
    "\n",
    "from sklearn.model_selection import train_test_split\n",
    "from sklearn.linear_model import LinearRegression\n",
    "from sklearn.ensemble import RandomForestRegressor\n",
    "from sklearn.preprocessing import StandardScaler\n",
    "from sklearn.metrics import r2_score"
   ]
  },
  {
   "cell_type": "markdown",
   "metadata": {},
   "source": [
    "## Import dataset"
   ]
  },
  {
   "cell_type": "code",
   "execution_count": 2,
   "metadata": {
    "scrolled": true
   },
   "outputs": [
    {
     "data": {
      "text/html": [
       "<div>\n",
       "<style scoped>\n",
       "    .dataframe tbody tr th:only-of-type {\n",
       "        vertical-align: middle;\n",
       "    }\n",
       "\n",
       "    .dataframe tbody tr th {\n",
       "        vertical-align: top;\n",
       "    }\n",
       "\n",
       "    .dataframe thead th {\n",
       "        text-align: right;\n",
       "    }\n",
       "</style>\n",
       "<table border=\"1\" class=\"dataframe\">\n",
       "  <thead>\n",
       "    <tr style=\"text-align: right;\">\n",
       "      <th></th>\n",
       "      <th>Unnamed: 0</th>\n",
       "      <th>Name</th>\n",
       "      <th>Location</th>\n",
       "      <th>Year</th>\n",
       "      <th>Kilometers_Driven</th>\n",
       "      <th>Fuel_Type</th>\n",
       "      <th>Transmission</th>\n",
       "      <th>Owner_Type</th>\n",
       "      <th>Mileage</th>\n",
       "      <th>Engine</th>\n",
       "      <th>Power</th>\n",
       "      <th>Seats</th>\n",
       "      <th>New_Price</th>\n",
       "      <th>Price</th>\n",
       "    </tr>\n",
       "  </thead>\n",
       "  <tbody>\n",
       "    <tr>\n",
       "      <th>2733</th>\n",
       "      <td>2733</td>\n",
       "      <td>Maruti Swift Dzire ZXI</td>\n",
       "      <td>Jaipur</td>\n",
       "      <td>2017</td>\n",
       "      <td>37282</td>\n",
       "      <td>Petrol</td>\n",
       "      <td>Manual</td>\n",
       "      <td>First</td>\n",
       "      <td>20.85 kmpl</td>\n",
       "      <td>1197 CC</td>\n",
       "      <td>83.14 bhp</td>\n",
       "      <td>5.0</td>\n",
       "      <td>NaN</td>\n",
       "      <td>6.75</td>\n",
       "    </tr>\n",
       "    <tr>\n",
       "      <th>5435</th>\n",
       "      <td>5435</td>\n",
       "      <td>Honda City i DTEC VX</td>\n",
       "      <td>Chennai</td>\n",
       "      <td>2014</td>\n",
       "      <td>71000</td>\n",
       "      <td>Diesel</td>\n",
       "      <td>Manual</td>\n",
       "      <td>Second</td>\n",
       "      <td>25.1 kmpl</td>\n",
       "      <td>1498 CC</td>\n",
       "      <td>98.6 bhp</td>\n",
       "      <td>5.0</td>\n",
       "      <td>NaN</td>\n",
       "      <td>6.20</td>\n",
       "    </tr>\n",
       "    <tr>\n",
       "      <th>1010</th>\n",
       "      <td>1010</td>\n",
       "      <td>Ford Ecosport Signature Edition Diesel</td>\n",
       "      <td>Coimbatore</td>\n",
       "      <td>2019</td>\n",
       "      <td>23154</td>\n",
       "      <td>Diesel</td>\n",
       "      <td>Manual</td>\n",
       "      <td>First</td>\n",
       "      <td>23.0 kmpl</td>\n",
       "      <td>1498 CC</td>\n",
       "      <td>98.96 bhp</td>\n",
       "      <td>5.0</td>\n",
       "      <td>12.12 Lakh</td>\n",
       "      <td>11.65</td>\n",
       "    </tr>\n",
       "    <tr>\n",
       "      <th>1600</th>\n",
       "      <td>1600</td>\n",
       "      <td>Honda City i VTEC SV</td>\n",
       "      <td>Kochi</td>\n",
       "      <td>2016</td>\n",
       "      <td>36367</td>\n",
       "      <td>Petrol</td>\n",
       "      <td>Manual</td>\n",
       "      <td>First</td>\n",
       "      <td>17.8 kmpl</td>\n",
       "      <td>1497 CC</td>\n",
       "      <td>117.3 bhp</td>\n",
       "      <td>5.0</td>\n",
       "      <td>NaN</td>\n",
       "      <td>7.73</td>\n",
       "    </tr>\n",
       "    <tr>\n",
       "      <th>1227</th>\n",
       "      <td>1227</td>\n",
       "      <td>BMW 3 Series 328i Sport Line</td>\n",
       "      <td>Pune</td>\n",
       "      <td>2013</td>\n",
       "      <td>49000</td>\n",
       "      <td>Petrol</td>\n",
       "      <td>Automatic</td>\n",
       "      <td>First</td>\n",
       "      <td>14.59 kmpl</td>\n",
       "      <td>1997 CC</td>\n",
       "      <td>245 bhp</td>\n",
       "      <td>5.0</td>\n",
       "      <td>NaN</td>\n",
       "      <td>19.00</td>\n",
       "    </tr>\n",
       "    <tr>\n",
       "      <th>3936</th>\n",
       "      <td>3936</td>\n",
       "      <td>Volkswagen Vento Diesel Highline</td>\n",
       "      <td>Pune</td>\n",
       "      <td>2013</td>\n",
       "      <td>95500</td>\n",
       "      <td>Diesel</td>\n",
       "      <td>Manual</td>\n",
       "      <td>First</td>\n",
       "      <td>20.54 kmpl</td>\n",
       "      <td>1598 CC</td>\n",
       "      <td>103.6 bhp</td>\n",
       "      <td>5.0</td>\n",
       "      <td>NaN</td>\n",
       "      <td>5.00</td>\n",
       "    </tr>\n",
       "    <tr>\n",
       "      <th>5016</th>\n",
       "      <td>5016</td>\n",
       "      <td>Land Rover Freelander 2 TD4 HSE</td>\n",
       "      <td>Delhi</td>\n",
       "      <td>2013</td>\n",
       "      <td>72000</td>\n",
       "      <td>Diesel</td>\n",
       "      <td>Automatic</td>\n",
       "      <td>First</td>\n",
       "      <td>0.0 kmpl</td>\n",
       "      <td>2179 CC</td>\n",
       "      <td>115 bhp</td>\n",
       "      <td>5.0</td>\n",
       "      <td>NaN</td>\n",
       "      <td>15.50</td>\n",
       "    </tr>\n",
       "    <tr>\n",
       "      <th>5277</th>\n",
       "      <td>5277</td>\n",
       "      <td>Maruti Alto 800 LXI</td>\n",
       "      <td>Jaipur</td>\n",
       "      <td>2017</td>\n",
       "      <td>30000</td>\n",
       "      <td>Petrol</td>\n",
       "      <td>Manual</td>\n",
       "      <td>First</td>\n",
       "      <td>22.74 kmpl</td>\n",
       "      <td>796 CC</td>\n",
       "      <td>47.3 bhp</td>\n",
       "      <td>5.0</td>\n",
       "      <td>NaN</td>\n",
       "      <td>3.10</td>\n",
       "    </tr>\n",
       "  </tbody>\n",
       "</table>\n",
       "</div>"
      ],
      "text/plain": [
       "      Unnamed: 0                                    Name    Location  Year  \\\n",
       "2733        2733                  Maruti Swift Dzire ZXI      Jaipur  2017   \n",
       "5435        5435                    Honda City i DTEC VX     Chennai  2014   \n",
       "1010        1010  Ford Ecosport Signature Edition Diesel  Coimbatore  2019   \n",
       "1600        1600                    Honda City i VTEC SV       Kochi  2016   \n",
       "1227        1227            BMW 3 Series 328i Sport Line        Pune  2013   \n",
       "3936        3936        Volkswagen Vento Diesel Highline        Pune  2013   \n",
       "5016        5016         Land Rover Freelander 2 TD4 HSE       Delhi  2013   \n",
       "5277        5277                     Maruti Alto 800 LXI      Jaipur  2017   \n",
       "\n",
       "      Kilometers_Driven Fuel_Type Transmission Owner_Type     Mileage  \\\n",
       "2733              37282    Petrol       Manual      First  20.85 kmpl   \n",
       "5435              71000    Diesel       Manual     Second   25.1 kmpl   \n",
       "1010              23154    Diesel       Manual      First   23.0 kmpl   \n",
       "1600              36367    Petrol       Manual      First   17.8 kmpl   \n",
       "1227              49000    Petrol    Automatic      First  14.59 kmpl   \n",
       "3936              95500    Diesel       Manual      First  20.54 kmpl   \n",
       "5016              72000    Diesel    Automatic      First    0.0 kmpl   \n",
       "5277              30000    Petrol       Manual      First  22.74 kmpl   \n",
       "\n",
       "       Engine      Power  Seats   New_Price  Price  \n",
       "2733  1197 CC  83.14 bhp    5.0         NaN   6.75  \n",
       "5435  1498 CC   98.6 bhp    5.0         NaN   6.20  \n",
       "1010  1498 CC  98.96 bhp    5.0  12.12 Lakh  11.65  \n",
       "1600  1497 CC  117.3 bhp    5.0         NaN   7.73  \n",
       "1227  1997 CC    245 bhp    5.0         NaN  19.00  \n",
       "3936  1598 CC  103.6 bhp    5.0         NaN   5.00  \n",
       "5016  2179 CC    115 bhp    5.0         NaN  15.50  \n",
       "5277   796 CC   47.3 bhp    5.0         NaN   3.10  "
      ]
     },
     "execution_count": 2,
     "metadata": {},
     "output_type": "execute_result"
    }
   ],
   "source": [
    "data = pd.read_csv(r\"C:\\Users\\Vinay\\OneDrive\\Documents\\GitHub\\used-vehicle-price-prediction-data-secience\\dataset.csv\")\n",
    "data.sample(8)"
   ]
  },
  {
   "cell_type": "code",
   "execution_count": 3,
   "metadata": {},
   "outputs": [
    {
     "name": "stdout",
     "output_type": "stream",
     "text": [
      "<class 'pandas.core.frame.DataFrame'>\n",
      "RangeIndex: 6019 entries, 0 to 6018\n",
      "Data columns (total 14 columns):\n",
      " #   Column             Non-Null Count  Dtype  \n",
      "---  ------             --------------  -----  \n",
      " 0   Unnamed: 0         6019 non-null   int64  \n",
      " 1   Name               6019 non-null   object \n",
      " 2   Location           6019 non-null   object \n",
      " 3   Year               6019 non-null   int64  \n",
      " 4   Kilometers_Driven  6019 non-null   int64  \n",
      " 5   Fuel_Type          6019 non-null   object \n",
      " 6   Transmission       6019 non-null   object \n",
      " 7   Owner_Type         6019 non-null   object \n",
      " 8   Mileage            6017 non-null   object \n",
      " 9   Engine             5983 non-null   object \n",
      " 10  Power              5983 non-null   object \n",
      " 11  Seats              5977 non-null   float64\n",
      " 12  New_Price          824 non-null    object \n",
      " 13  Price              6019 non-null   float64\n",
      "dtypes: float64(2), int64(3), object(9)\n",
      "memory usage: 658.5+ KB\n"
     ]
    }
   ],
   "source": [
    "data.info()"
   ]
  },
  {
   "cell_type": "markdown",
   "metadata": {},
   "source": [
    "## Data Cleaning \n",
    "* missingno is a quick and easy way used to visualize missing values in the datasets\n",
    "* using dropna to remove the null valued records from the datasets"
   ]
  },
  {
   "cell_type": "code",
   "execution_count": 4,
   "metadata": {},
   "outputs": [
    {
     "data": {
      "text/plain": [
       "<Axes: >"
      ]
     },
     "execution_count": 4,
     "metadata": {},
     "output_type": "execute_result"
    },
    {
     "data": {
      "image/png": "[encoded data removed]",
      "text/plain": [
       "<Figure size 2500x1000 with 3 Axes>"
      ]
     },
     "metadata": {},
     "output_type": "display_data"
    }
   ],
   "source": [
    "import missingno as msno\n",
    "msno.bar(data)"
   ]
  },
  {
   "cell_type": "code",
   "execution_count": 5,
   "metadata": {},
   "outputs": [
    {
     "data": {
      "text/plain": [
       "(6019, 14)"
      ]
     },
     "execution_count": 5,
     "metadata": {},
     "output_type": "execute_result"
    }
   ],
   "source": [
    "data.shape"
   ]
  },
  {
   "cell_type": "markdown",
   "metadata": {},
   "source": [
    "**as the new_price column has many null values we are going to drop that column**"
   ]
  },
  {
   "cell_type": "code",
   "execution_count": 6,
   "metadata": {
    "scrolled": false
   },
   "outputs": [
    {
     "data": {
      "text/html": [
       "<div>\n",
       "<style scoped>\n",
       "    .dataframe tbody tr th:only-of-type {\n",
       "        vertical-align: middle;\n",
       "    }\n",
       "\n",
       "    .dataframe tbody tr th {\n",
       "        vertical-align: top;\n",
       "    }\n",
       "\n",
       "    .dataframe thead th {\n",
       "        text-align: right;\n",
       "    }\n",
       "</style>\n",
       "<table border=\"1\" class=\"dataframe\">\n",
       "  <thead>\n",
       "    <tr style=\"text-align: right;\">\n",
       "      <th></th>\n",
       "      <th>Unnamed: 0</th>\n",
       "      <th>Name</th>\n",
       "      <th>Location</th>\n",
       "      <th>Year</th>\n",
       "      <th>Kilometers_Driven</th>\n",
       "      <th>Fuel_Type</th>\n",
       "      <th>Transmission</th>\n",
       "      <th>Owner_Type</th>\n",
       "      <th>Mileage</th>\n",
       "      <th>Engine</th>\n",
       "      <th>Power</th>\n",
       "      <th>Seats</th>\n",
       "      <th>Price</th>\n",
       "    </tr>\n",
       "  </thead>\n",
       "  <tbody>\n",
       "    <tr>\n",
       "      <th>6014</th>\n",
       "      <td>6014</td>\n",
       "      <td>Maruti Swift VDI</td>\n",
       "      <td>Delhi</td>\n",
       "      <td>2014</td>\n",
       "      <td>27365</td>\n",
       "      <td>Diesel</td>\n",
       "      <td>Manual</td>\n",
       "      <td>First</td>\n",
       "      <td>28.4 kmpl</td>\n",
       "      <td>1248 CC</td>\n",
       "      <td>74 bhp</td>\n",
       "      <td>5.0</td>\n",
       "      <td>4.75</td>\n",
       "    </tr>\n",
       "    <tr>\n",
       "      <th>6015</th>\n",
       "      <td>6015</td>\n",
       "      <td>Hyundai Xcent 1.1 CRDi S</td>\n",
       "      <td>Jaipur</td>\n",
       "      <td>2015</td>\n",
       "      <td>100000</td>\n",
       "      <td>Diesel</td>\n",
       "      <td>Manual</td>\n",
       "      <td>First</td>\n",
       "      <td>24.4 kmpl</td>\n",
       "      <td>1120 CC</td>\n",
       "      <td>71 bhp</td>\n",
       "      <td>5.0</td>\n",
       "      <td>4.00</td>\n",
       "    </tr>\n",
       "    <tr>\n",
       "      <th>6016</th>\n",
       "      <td>6016</td>\n",
       "      <td>Mahindra Xylo D4 BSIV</td>\n",
       "      <td>Jaipur</td>\n",
       "      <td>2012</td>\n",
       "      <td>55000</td>\n",
       "      <td>Diesel</td>\n",
       "      <td>Manual</td>\n",
       "      <td>Second</td>\n",
       "      <td>14.0 kmpl</td>\n",
       "      <td>2498 CC</td>\n",
       "      <td>112 bhp</td>\n",
       "      <td>8.0</td>\n",
       "      <td>2.90</td>\n",
       "    </tr>\n",
       "    <tr>\n",
       "      <th>6017</th>\n",
       "      <td>6017</td>\n",
       "      <td>Maruti Wagon R VXI</td>\n",
       "      <td>Kolkata</td>\n",
       "      <td>2013</td>\n",
       "      <td>46000</td>\n",
       "      <td>Petrol</td>\n",
       "      <td>Manual</td>\n",
       "      <td>First</td>\n",
       "      <td>18.9 kmpl</td>\n",
       "      <td>998 CC</td>\n",
       "      <td>67.1 bhp</td>\n",
       "      <td>5.0</td>\n",
       "      <td>2.65</td>\n",
       "    </tr>\n",
       "    <tr>\n",
       "      <th>6018</th>\n",
       "      <td>6018</td>\n",
       "      <td>Chevrolet Beat Diesel</td>\n",
       "      <td>Hyderabad</td>\n",
       "      <td>2011</td>\n",
       "      <td>47000</td>\n",
       "      <td>Diesel</td>\n",
       "      <td>Manual</td>\n",
       "      <td>First</td>\n",
       "      <td>25.44 kmpl</td>\n",
       "      <td>936 CC</td>\n",
       "      <td>57.6 bhp</td>\n",
       "      <td>5.0</td>\n",
       "      <td>2.50</td>\n",
       "    </tr>\n",
       "  </tbody>\n",
       "</table>\n",
       "</div>"
      ],
      "text/plain": [
       "      Unnamed: 0                      Name   Location  Year  \\\n",
       "6014        6014          Maruti Swift VDI      Delhi  2014   \n",
       "6015        6015  Hyundai Xcent 1.1 CRDi S     Jaipur  2015   \n",
       "6016        6016     Mahindra Xylo D4 BSIV     Jaipur  2012   \n",
       "6017        6017        Maruti Wagon R VXI    Kolkata  2013   \n",
       "6018        6018     Chevrolet Beat Diesel  Hyderabad  2011   \n",
       "\n",
       "      Kilometers_Driven Fuel_Type Transmission Owner_Type     Mileage  \\\n",
       "6014              27365    Diesel       Manual      First   28.4 kmpl   \n",
       "6015             100000    Diesel       Manual      First   24.4 kmpl   \n",
       "6016              55000    Diesel       Manual     Second   14.0 kmpl   \n",
       "6017              46000    Petrol       Manual      First   18.9 kmpl   \n",
       "6018              47000    Diesel       Manual      First  25.44 kmpl   \n",
       "\n",
       "       Engine     Power  Seats  Price  \n",
       "6014  1248 CC    74 bhp    5.0   4.75  \n",
       "6015  1120 CC    71 bhp    5.0   4.00  \n",
       "6016  2498 CC   112 bhp    8.0   2.90  \n",
       "6017   998 CC  67.1 bhp    5.0   2.65  \n",
       "6018   936 CC  57.6 bhp    5.0   2.50  "
      ]
     },
     "execution_count": 6,
     "metadata": {},
     "output_type": "execute_result"
    }
   ],
   "source": [
    "data = data.drop(\"New_Price\", axis=1)\n",
    "data.tail()"
   ]
  },
  {
   "cell_type": "code",
   "execution_count": 7,
   "metadata": {
    "scrolled": true
   },
   "outputs": [
    {
     "data": {
      "text/plain": [
       "Unnamed: 0            0\n",
       "Name                  0\n",
       "Location              0\n",
       "Year                  0\n",
       "Kilometers_Driven     0\n",
       "Fuel_Type             0\n",
       "Transmission          0\n",
       "Owner_Type            0\n",
       "Mileage               2\n",
       "Engine               36\n",
       "Power                36\n",
       "Seats                42\n",
       "Price                 0\n",
       "dtype: int64"
      ]
     },
     "execution_count": 7,
     "metadata": {},
     "output_type": "execute_result"
    }
   ],
   "source": [
    "data.isnull().sum()"
   ]
  },
  {
   "cell_type": "code",
   "execution_count": 8,
   "metadata": {},
   "outputs": [
    {
     "data": {
      "text/plain": [
       "Unnamed: 0           0\n",
       "Name                 0\n",
       "Location             0\n",
       "Year                 0\n",
       "Kilometers_Driven    0\n",
       "Fuel_Type            0\n",
       "Transmission         0\n",
       "Owner_Type           0\n",
       "Mileage              0\n",
       "Engine               0\n",
       "Power                0\n",
       "Seats                0\n",
       "Price                0\n",
       "dtype: int64"
      ]
     },
     "execution_count": 8,
     "metadata": {},
     "output_type": "execute_result"
    }
   ],
   "source": [
    "data = data.dropna()\n",
    "data.isnull().sum()"
   ]
  },
  {
   "cell_type": "markdown",
   "metadata": {},
   "source": [
    "## Test Train Split\n",
    "* 70% as train data and 30% as test data\n",
    "* training data is used to train the machine learning models and test data is used to check the accuracy of the model"
   ]
  },
  {
   "cell_type": "code",
   "execution_count": 9,
   "metadata": {},
   "outputs": [],
   "source": [
    "X_train, X_test, ytrain, ytest = train_test_split(data.iloc[:, :-1], \n",
    "                                                    data.iloc[:, -1], \n",
    "                                                    test_size = 0.3, \n",
    "                                                    random_state = 42)\n",
    "# iloc[:, :-1] selects the column except the last \n",
    "# iloc[:, -1] selects the last column"
   ]
  },
  {
   "cell_type": "code",
   "execution_count": 10,
   "metadata": {},
   "outputs": [
    {
     "name": "stdout",
     "output_type": "stream",
     "text": [
      "<class 'pandas.core.frame.DataFrame'>\n",
      "Int64Index: 4182 entries, 5333 to 865\n",
      "Data columns (total 12 columns):\n",
      " #   Column             Non-Null Count  Dtype  \n",
      "---  ------             --------------  -----  \n",
      " 0   Unnamed: 0         4182 non-null   int64  \n",
      " 1   Name               4182 non-null   object \n",
      " 2   Location           4182 non-null   object \n",
      " 3   Year               4182 non-null   int64  \n",
      " 4   Kilometers_Driven  4182 non-null   int64  \n",
      " 5   Fuel_Type          4182 non-null   object \n",
      " 6   Transmission       4182 non-null   object \n",
      " 7   Owner_Type         4182 non-null   object \n",
      " 8   Mileage            4182 non-null   object \n",
      " 9   Engine             4182 non-null   object \n",
      " 10  Power              4182 non-null   object \n",
      " 11  Seats              4182 non-null   float64\n",
      "dtypes: float64(1), int64(3), object(8)\n",
      "memory usage: 424.7+ KB\n"
     ]
    }
   ],
   "source": [
    "X_train.info()"
   ]
  },
  {
   "cell_type": "code",
   "execution_count": 11,
   "metadata": {},
   "outputs": [
    {
     "data": {
      "text/plain": [
       "5333     6.11\n",
       "1822     4.70\n",
       "2638     2.90\n",
       "2931     4.30\n",
       "5151     3.90\n",
       "        ...  \n",
       "3799    26.00\n",
       "5233     4.90\n",
       "5268     2.65\n",
       "5433     4.01\n",
       "865      0.70\n",
       "Name: Price, Length: 4182, dtype: float64"
      ]
     },
     "execution_count": 11,
     "metadata": {},
     "output_type": "execute_result"
    }
   ],
   "source": [
    "# y_train holds the training data to which the test model needs to be trained for better accuracy\n",
    "ytrain"
   ]
  },
  {
   "cell_type": "markdown",
   "metadata": {},
   "source": [
    "## Pre-Processing and analyzing the data\n",
    "* Let's explore the various columns and draw information about how useful each columns are"
   ]
  },
  {
   "cell_type": "markdown",
   "metadata": {},
   "source": [
    "### Index"
   ]
  },
  {
   "cell_type": "code",
   "execution_count": 12,
   "metadata": {},
   "outputs": [],
   "source": [
    "# The first column is the index for each data point and hence we can simply remove it.\n",
    "X_train = X_train.iloc[:, 1:]\n",
    "X_test = X_test.iloc[:, 1:]"
   ]
  },
  {
   "cell_type": "code",
   "execution_count": 13,
   "metadata": {},
   "outputs": [
    {
     "name": "stdout",
     "output_type": "stream",
     "text": [
      "<class 'pandas.core.frame.DataFrame'>\n",
      "Int64Index: 4182 entries, 5333 to 865\n",
      "Data columns (total 11 columns):\n",
      " #   Column             Non-Null Count  Dtype  \n",
      "---  ------             --------------  -----  \n",
      " 0   Name               4182 non-null   object \n",
      " 1   Location           4182 non-null   object \n",
      " 2   Year               4182 non-null   int64  \n",
      " 3   Kilometers_Driven  4182 non-null   int64  \n",
      " 4   Fuel_Type          4182 non-null   object \n",
      " 5   Transmission       4182 non-null   object \n",
      " 6   Owner_Type         4182 non-null   object \n",
      " 7   Mileage            4182 non-null   object \n",
      " 8   Engine             4182 non-null   object \n",
      " 9   Power              4182 non-null   object \n",
      " 10  Seats              4182 non-null   float64\n",
      "dtypes: float64(1), int64(2), object(8)\n",
      "memory usage: 392.1+ KB\n"
     ]
    }
   ],
   "source": [
    "# the index numbers aren't considered for the prediction\n",
    "X_train.info()"
   ]
  },
  {
   "cell_type": "markdown",
   "metadata": {},
   "source": [
    "### Name\n",
    "**Let's explore the various cars in the dataset**"
   ]
  },
  {
   "cell_type": "code",
   "execution_count": 14,
   "metadata": {},
   "outputs": [
    {
     "data": {
      "text/plain": [
       "Mahindra XUV500 W8 2WD              34\n",
       "Honda City 1.5 S MT                 26\n",
       "Maruti Swift VDI                    26\n",
       "Honda Amaze S i-Dtech               24\n",
       "Toyota Fortuner 3.0 Diesel          24\n",
       "                                    ..\n",
       "Lamborghini Gallardo Coupe           1\n",
       "Mahindra Jeep MM 540 DP              1\n",
       "Porsche Cayenne 2009-2014 Diesel     1\n",
       "Tata Zest Quadrajet 1.3              1\n",
       "Maruti Ritz VDI (ABS) BS IV          1\n",
       "Name: Name, Length: 1539, dtype: int64"
      ]
     },
     "execution_count": 14,
     "metadata": {},
     "output_type": "execute_result"
    }
   ],
   "source": [
    "X_train[\"Name\"].value_counts()"
   ]
  },
  {
   "cell_type": "markdown",
   "metadata": {},
   "source": [
    "* we can say that there are several cars in the dataset, some of them with a count > 1\n",
    "* the resale value of the car may also depend upon the manufacturers. So let's extract the manufacturer from this column and add it to the dataset."
   ]
  },
  {
   "cell_type": "markdown",
   "metadata": {},
   "source": [
    "#### from the test-train data we extract the manufactures' data"
   ]
  },
  {
   "cell_type": "code",
   "execution_count": 15,
   "metadata": {},
   "outputs": [
    {
     "data": {
      "text/plain": [
       "5333           Maruti\n",
       "1822         Mahindra\n",
       "2638           Maruti\n",
       "2931            Honda\n",
       "5151       Volkswagen\n",
       "            ...      \n",
       "3799    Mercedes-Benz\n",
       "5233           Maruti\n",
       "5268          Hyundai\n",
       "5433          Hyundai\n",
       "865            Maruti\n",
       "Name: 0, Length: 4182, dtype: object"
      ]
     },
     "execution_count": 15,
     "metadata": {},
     "output_type": "execute_result"
    }
   ],
   "source": [
    "make_train = X_train[\"Name\"].str.split(\" \", expand = True)\n",
    "make_test = X_test[\"Name\"].str.split(\" \", expand = True)\n",
    "make_train[0]"
   ]
  },
  {
   "cell_type": "code",
   "execution_count": 16,
   "metadata": {},
   "outputs": [
    {
     "data": {
      "text/html": [
       "<div>\n",
       "<style scoped>\n",
       "    .dataframe tbody tr th:only-of-type {\n",
       "        vertical-align: middle;\n",
       "    }\n",
       "\n",
       "    .dataframe tbody tr th {\n",
       "        vertical-align: top;\n",
       "    }\n",
       "\n",
       "    .dataframe thead th {\n",
       "        text-align: right;\n",
       "    }\n",
       "</style>\n",
       "<table border=\"1\" class=\"dataframe\">\n",
       "  <thead>\n",
       "    <tr style=\"text-align: right;\">\n",
       "      <th></th>\n",
       "      <th>Name</th>\n",
       "      <th>Location</th>\n",
       "      <th>Year</th>\n",
       "      <th>Kilometers_Driven</th>\n",
       "      <th>Fuel_Type</th>\n",
       "      <th>Transmission</th>\n",
       "      <th>Owner_Type</th>\n",
       "      <th>Mileage</th>\n",
       "      <th>Engine</th>\n",
       "      <th>Power</th>\n",
       "      <th>Seats</th>\n",
       "      <th>Manufacturer</th>\n",
       "    </tr>\n",
       "  </thead>\n",
       "  <tbody>\n",
       "    <tr>\n",
       "      <th>5077</th>\n",
       "      <td>Honda City i VTEC SV</td>\n",
       "      <td>Mumbai</td>\n",
       "      <td>2014</td>\n",
       "      <td>10500</td>\n",
       "      <td>Petrol</td>\n",
       "      <td>Manual</td>\n",
       "      <td>First</td>\n",
       "      <td>17.4 kmpl</td>\n",
       "      <td>1497 CC</td>\n",
       "      <td>117.3 bhp</td>\n",
       "      <td>5.0</td>\n",
       "      <td>Honda</td>\n",
       "    </tr>\n",
       "    <tr>\n",
       "      <th>3296</th>\n",
       "      <td>Honda Jazz 1.2 S i VTEC</td>\n",
       "      <td>Mumbai</td>\n",
       "      <td>2015</td>\n",
       "      <td>31000</td>\n",
       "      <td>Petrol</td>\n",
       "      <td>Manual</td>\n",
       "      <td>First</td>\n",
       "      <td>18.7 kmpl</td>\n",
       "      <td>1199 CC</td>\n",
       "      <td>88.7 bhp</td>\n",
       "      <td>5.0</td>\n",
       "      <td>Honda</td>\n",
       "    </tr>\n",
       "    <tr>\n",
       "      <th>3877</th>\n",
       "      <td>Maruti Swift Ldi BSIII</td>\n",
       "      <td>Hyderabad</td>\n",
       "      <td>2008</td>\n",
       "      <td>76206</td>\n",
       "      <td>Diesel</td>\n",
       "      <td>Manual</td>\n",
       "      <td>First</td>\n",
       "      <td>17.8 kmpl</td>\n",
       "      <td>1248 CC</td>\n",
       "      <td>75 bhp</td>\n",
       "      <td>5.0</td>\n",
       "      <td>Maruti</td>\n",
       "    </tr>\n",
       "    <tr>\n",
       "      <th>2695</th>\n",
       "      <td>Ford Figo Diesel EXI</td>\n",
       "      <td>Hyderabad</td>\n",
       "      <td>2010</td>\n",
       "      <td>108882</td>\n",
       "      <td>Diesel</td>\n",
       "      <td>Manual</td>\n",
       "      <td>Second</td>\n",
       "      <td>20.0 kmpl</td>\n",
       "      <td>1399 CC</td>\n",
       "      <td>68 bhp</td>\n",
       "      <td>5.0</td>\n",
       "      <td>Ford</td>\n",
       "    </tr>\n",
       "  </tbody>\n",
       "</table>\n",
       "</div>"
      ],
      "text/plain": [
       "                         Name   Location  Year  Kilometers_Driven Fuel_Type  \\\n",
       "5077     Honda City i VTEC SV     Mumbai  2014              10500    Petrol   \n",
       "3296  Honda Jazz 1.2 S i VTEC     Mumbai  2015              31000    Petrol   \n",
       "3877   Maruti Swift Ldi BSIII  Hyderabad  2008              76206    Diesel   \n",
       "2695     Ford Figo Diesel EXI  Hyderabad  2010             108882    Diesel   \n",
       "\n",
       "     Transmission Owner_Type    Mileage   Engine      Power  Seats  \\\n",
       "5077       Manual      First  17.4 kmpl  1497 CC  117.3 bhp    5.0   \n",
       "3296       Manual      First  18.7 kmpl  1199 CC   88.7 bhp    5.0   \n",
       "3877       Manual      First  17.8 kmpl  1248 CC     75 bhp    5.0   \n",
       "2695       Manual     Second  20.0 kmpl  1399 CC     68 bhp    5.0   \n",
       "\n",
       "     Manufacturer  \n",
       "5077        Honda  \n",
       "3296        Honda  \n",
       "3877       Maruti  \n",
       "2695         Ford  "
      ]
     },
     "execution_count": 16,
     "metadata": {},
     "output_type": "execute_result"
    }
   ],
   "source": [
    "# make_train[0] will have list of car names, using this data we create a new column manufacturers\n",
    "X_train[\"Manufacturer\"] = make_train[0]\n",
    "X_test[\"Manufacturer\"] = make_test[0]\n",
    "X_train.sample(4)"
   ]
  },
  {
   "cell_type": "markdown",
   "metadata": {},
   "source": [
    "**Let's also confirm that there are no null values and identify all unique values**"
   ]
  },
  {
   "cell_type": "code",
   "execution_count": 17,
   "metadata": {},
   "outputs": [
    {
     "data": {
      "text/plain": [
       "Text(0, 0.5, 'Count of cars')"
      ]
     },
     "execution_count": 17,
     "metadata": {},
     "output_type": "execute_result"
    },
    {
     "data": {
      "image/png": "[encoded data removed]",
      "text/plain": [
       "<Figure size 1500x500 with 1 Axes>"
      ]
     },
     "metadata": {},
     "output_type": "display_data"
    }
   ],
   "source": [
    "plt.figure(figsize = (15, 5))\n",
    "plot = sns.countplot(x = 'Manufacturer', data = X_train)\n",
    "\n",
    "for p in plot.patches:\n",
    "    plot.annotate(p.get_height(), \n",
    "                        (p.get_x() + p.get_width() / 2.0, \n",
    "                         p.get_height()), \n",
    "                        ha = 'center', \n",
    "                        va = 'center', \n",
    "                        xytext = (0, 5),\n",
    "                        textcoords = 'offset points')\n",
    "\n",
    "# labels\n",
    "plt.xticks(rotation = 90) \n",
    "plt.title(\"Count of cars based on manufacturers\")\n",
    "plt.xlabel(\"Manufacturer\")\n",
    "plt.ylabel(\"Count of cars\")"
   ]
  },
  {
   "cell_type": "markdown",
   "metadata": {},
   "source": [
    "* from the above plot we can infer that Maximum cars in the dataset are by the manufactured **Maruti**\n",
    "* Let's drop the `Name` column, as it's not required further in our prediction"
   ]
  },
  {
   "cell_type": "code",
   "execution_count": 18,
   "metadata": {},
   "outputs": [
    {
     "data": {
      "text/html": [
       "<div>\n",
       "<style scoped>\n",
       "    .dataframe tbody tr th:only-of-type {\n",
       "        vertical-align: middle;\n",
       "    }\n",
       "\n",
       "    .dataframe tbody tr th {\n",
       "        vertical-align: top;\n",
       "    }\n",
       "\n",
       "    .dataframe thead th {\n",
       "        text-align: right;\n",
       "    }\n",
       "</style>\n",
       "<table border=\"1\" class=\"dataframe\">\n",
       "  <thead>\n",
       "    <tr style=\"text-align: right;\">\n",
       "      <th></th>\n",
       "      <th>Location</th>\n",
       "      <th>Year</th>\n",
       "      <th>Kilometers_Driven</th>\n",
       "      <th>Fuel_Type</th>\n",
       "      <th>Transmission</th>\n",
       "      <th>Owner_Type</th>\n",
       "      <th>Mileage</th>\n",
       "      <th>Engine</th>\n",
       "      <th>Power</th>\n",
       "      <th>Seats</th>\n",
       "      <th>Manufacturer</th>\n",
       "    </tr>\n",
       "  </thead>\n",
       "  <tbody>\n",
       "    <tr>\n",
       "      <th>899</th>\n",
       "      <td>Pune</td>\n",
       "      <td>2018</td>\n",
       "      <td>17000</td>\n",
       "      <td>Petrol</td>\n",
       "      <td>Automatic</td>\n",
       "      <td>First</td>\n",
       "      <td>19.16 kmpl</td>\n",
       "      <td>2494 CC</td>\n",
       "      <td>158.2 bhp</td>\n",
       "      <td>5.0</td>\n",
       "      <td>Toyota</td>\n",
       "    </tr>\n",
       "    <tr>\n",
       "      <th>4063</th>\n",
       "      <td>Coimbatore</td>\n",
       "      <td>2015</td>\n",
       "      <td>60146</td>\n",
       "      <td>Diesel</td>\n",
       "      <td>Automatic</td>\n",
       "      <td>First</td>\n",
       "      <td>14.16 kmpl</td>\n",
       "      <td>1968 CC</td>\n",
       "      <td>174.3 bhp</td>\n",
       "      <td>5.0</td>\n",
       "      <td>Audi</td>\n",
       "    </tr>\n",
       "    <tr>\n",
       "      <th>5867</th>\n",
       "      <td>Mumbai</td>\n",
       "      <td>2017</td>\n",
       "      <td>35000</td>\n",
       "      <td>Diesel</td>\n",
       "      <td>Automatic</td>\n",
       "      <td>First</td>\n",
       "      <td>18.19 kmpl</td>\n",
       "      <td>1968 CC</td>\n",
       "      <td>174.5 bhp</td>\n",
       "      <td>5.0</td>\n",
       "      <td>Skoda</td>\n",
       "    </tr>\n",
       "    <tr>\n",
       "      <th>3336</th>\n",
       "      <td>Jaipur</td>\n",
       "      <td>2013</td>\n",
       "      <td>75049</td>\n",
       "      <td>Petrol</td>\n",
       "      <td>Manual</td>\n",
       "      <td>Second</td>\n",
       "      <td>20.36 kmpl</td>\n",
       "      <td>1197 CC</td>\n",
       "      <td>78.9 bhp</td>\n",
       "      <td>5.0</td>\n",
       "      <td>Hyundai</td>\n",
       "    </tr>\n",
       "    <tr>\n",
       "      <th>3783</th>\n",
       "      <td>Pune</td>\n",
       "      <td>2010</td>\n",
       "      <td>128000</td>\n",
       "      <td>Diesel</td>\n",
       "      <td>Manual</td>\n",
       "      <td>Second</td>\n",
       "      <td>14.42 kmpl</td>\n",
       "      <td>1995 CC</td>\n",
       "      <td>147.6 bhp</td>\n",
       "      <td>5.0</td>\n",
       "      <td>Nissan</td>\n",
       "    </tr>\n",
       "  </tbody>\n",
       "</table>\n",
       "</div>"
      ],
      "text/plain": [
       "        Location  Year  Kilometers_Driven Fuel_Type Transmission Owner_Type  \\\n",
       "899         Pune  2018              17000    Petrol    Automatic      First   \n",
       "4063  Coimbatore  2015              60146    Diesel    Automatic      First   \n",
       "5867      Mumbai  2017              35000    Diesel    Automatic      First   \n",
       "3336      Jaipur  2013              75049    Petrol       Manual     Second   \n",
       "3783        Pune  2010             128000    Diesel       Manual     Second   \n",
       "\n",
       "         Mileage   Engine      Power  Seats Manufacturer  \n",
       "899   19.16 kmpl  2494 CC  158.2 bhp    5.0       Toyota  \n",
       "4063  14.16 kmpl  1968 CC  174.3 bhp    5.0         Audi  \n",
       "5867  18.19 kmpl  1968 CC  174.5 bhp    5.0        Skoda  \n",
       "3336  20.36 kmpl  1197 CC   78.9 bhp    5.0      Hyundai  \n",
       "3783  14.42 kmpl  1995 CC  147.6 bhp    5.0       Nissan  "
      ]
     },
     "execution_count": 18,
     "metadata": {},
     "output_type": "execute_result"
    }
   ],
   "source": [
    "X_train.drop(\"Name\", axis = 1, inplace = True)\n",
    "X_test.drop(\"Name\", axis = 1, inplace = True)\n",
    "\n",
    "X_train.sample(5)"
   ]
  },
  {
   "cell_type": "markdown",
   "metadata": {},
   "source": [
    "### Location\n",
    "\n",
    "Location should not be a determinant for the price of a car and I'll safely remove it."
   ]
  },
  {
   "cell_type": "code",
   "execution_count": 19,
   "metadata": {},
   "outputs": [],
   "source": [
    "X_train.drop(\"Location\", axis = 1, inplace = True)\n",
    "X_test.drop(\"Location\", axis = 1, inplace = True)"
   ]
  },
  {
   "cell_type": "markdown",
   "metadata": {},
   "source": [
    "### Year\n",
    "\n",
    "Year has no significance on its own unless we try to extract how old a car is from this and see how its resale price may get affected."
   ]
  },
  {
   "cell_type": "code",
   "execution_count": 20,
   "metadata": {},
   "outputs": [
    {
     "data": {
      "text/html": [
       "<div>\n",
       "<style scoped>\n",
       "    .dataframe tbody tr th:only-of-type {\n",
       "        vertical-align: middle;\n",
       "    }\n",
       "\n",
       "    .dataframe tbody tr th {\n",
       "        vertical-align: top;\n",
       "    }\n",
       "\n",
       "    .dataframe thead th {\n",
       "        text-align: right;\n",
       "    }\n",
       "</style>\n",
       "<table border=\"1\" class=\"dataframe\">\n",
       "  <thead>\n",
       "    <tr style=\"text-align: right;\">\n",
       "      <th></th>\n",
       "      <th>Year</th>\n",
       "      <th>Kilometers_Driven</th>\n",
       "      <th>Fuel_Type</th>\n",
       "      <th>Transmission</th>\n",
       "      <th>Owner_Type</th>\n",
       "      <th>Mileage</th>\n",
       "      <th>Engine</th>\n",
       "      <th>Power</th>\n",
       "      <th>Seats</th>\n",
       "      <th>Manufacturer</th>\n",
       "    </tr>\n",
       "  </thead>\n",
       "  <tbody>\n",
       "    <tr>\n",
       "      <th>5570</th>\n",
       "      <td>11</td>\n",
       "      <td>80000</td>\n",
       "      <td>Diesel</td>\n",
       "      <td>Manual</td>\n",
       "      <td>First</td>\n",
       "      <td>19.72 kmpl</td>\n",
       "      <td>1461 CC</td>\n",
       "      <td>108.45 bhp</td>\n",
       "      <td>5.0</td>\n",
       "      <td>Renault</td>\n",
       "    </tr>\n",
       "    <tr>\n",
       "      <th>4014</th>\n",
       "      <td>10</td>\n",
       "      <td>73212</td>\n",
       "      <td>Diesel</td>\n",
       "      <td>Manual</td>\n",
       "      <td>First</td>\n",
       "      <td>22.9 kmpl</td>\n",
       "      <td>1248 CC</td>\n",
       "      <td>74 bhp</td>\n",
       "      <td>5.0</td>\n",
       "      <td>Maruti</td>\n",
       "    </tr>\n",
       "    <tr>\n",
       "      <th>5648</th>\n",
       "      <td>10</td>\n",
       "      <td>120005</td>\n",
       "      <td>Diesel</td>\n",
       "      <td>Manual</td>\n",
       "      <td>First</td>\n",
       "      <td>21.64 kmpl</td>\n",
       "      <td>1461 CC</td>\n",
       "      <td>84.8 bhp</td>\n",
       "      <td>5.0</td>\n",
       "      <td>Nissan</td>\n",
       "    </tr>\n",
       "    <tr>\n",
       "      <th>615</th>\n",
       "      <td>6</td>\n",
       "      <td>52000</td>\n",
       "      <td>Diesel</td>\n",
       "      <td>Manual</td>\n",
       "      <td>First</td>\n",
       "      <td>13.68 kmpl</td>\n",
       "      <td>2393 CC</td>\n",
       "      <td>147.8 bhp</td>\n",
       "      <td>8.0</td>\n",
       "      <td>Toyota</td>\n",
       "    </tr>\n",
       "    <tr>\n",
       "      <th>3876</th>\n",
       "      <td>14</td>\n",
       "      <td>65462</td>\n",
       "      <td>Petrol</td>\n",
       "      <td>Automatic</td>\n",
       "      <td>Third</td>\n",
       "      <td>11.1 kmpl</td>\n",
       "      <td>2354 CC</td>\n",
       "      <td>142 bhp</td>\n",
       "      <td>5.0</td>\n",
       "      <td>Honda</td>\n",
       "    </tr>\n",
       "  </tbody>\n",
       "</table>\n",
       "</div>"
      ],
      "text/plain": [
       "      Year  Kilometers_Driven Fuel_Type Transmission Owner_Type     Mileage  \\\n",
       "5570    11              80000    Diesel       Manual      First  19.72 kmpl   \n",
       "4014    10              73212    Diesel       Manual      First   22.9 kmpl   \n",
       "5648    10             120005    Diesel       Manual      First  21.64 kmpl   \n",
       "615      6              52000    Diesel       Manual      First  13.68 kmpl   \n",
       "3876    14              65462    Petrol    Automatic      Third   11.1 kmpl   \n",
       "\n",
       "       Engine       Power  Seats Manufacturer  \n",
       "5570  1461 CC  108.45 bhp    5.0      Renault  \n",
       "4014  1248 CC      74 bhp    5.0       Maruti  \n",
       "5648  1461 CC    84.8 bhp    5.0       Nissan  \n",
       "615   2393 CC   147.8 bhp    8.0       Toyota  \n",
       "3876  2354 CC     142 bhp    5.0        Honda  "
      ]
     },
     "execution_count": 20,
     "metadata": {},
     "output_type": "execute_result"
    }
   ],
   "source": [
    "curr_time = datetime.datetime.now()\n",
    "X_train['Year'] = X_train['Year'].apply(lambda x : curr_time.year - x)\n",
    "X_test['Year'] = X_test['Year'].apply(lambda x : curr_time.year - x)\n",
    "\n",
    "# as the price may vary with respect to the age of the car, so we calculate how much old the car is\n",
    "\n",
    "X_train.sample(5)"
   ]
  },
  {
   "cell_type": "markdown",
   "metadata": {},
   "source": [
    "## Mileage\n",
    "\n",
    "We need to extract the numerical value out of each string and save it in the column, as the units of the data aren't required fot our analysis"
   ]
  },
  {
   "cell_type": "code",
   "execution_count": 21,
   "metadata": {},
   "outputs": [
    {
     "data": {
      "text/plain": [
       "5333    20.77\n",
       "1822    25.32\n",
       "2638     26.2\n",
       "2931     18.0\n",
       "5151    22.07\n",
       "        ...  \n",
       "3799    14.21\n",
       "5233     23.2\n",
       "5268     17.0\n",
       "5433    19.81\n",
       "865      17.3\n",
       "Name: 0, Length: 4182, dtype: object"
      ]
     },
     "execution_count": 21,
     "metadata": {},
     "output_type": "execute_result"
    }
   ],
   "source": [
    "mileage_train = X_train[\"Mileage\"].str.split(\" \", expand = True)\n",
    "mileage_test = X_test[\"Mileage\"].str.split(\" \", expand = True)\n",
    "\n",
    "X_train[\"Mileage\"] = pd.to_numeric(mileage_train[0], errors = 'coerce')\n",
    "X_test[\"Mileage\"] = pd.to_numeric(mileage_test[0], errors = 'coerce')\n",
    "mileage_train[0] # consists of the value of mileage of the cars"
   ]
  },
  {
   "cell_type": "markdown",
   "metadata": {},
   "source": [
    "Let's check for missing values."
   ]
  },
  {
   "cell_type": "code",
   "execution_count": 22,
   "metadata": {
    "scrolled": true
   },
   "outputs": [
    {
     "name": "stdout",
     "output_type": "stream",
     "text": [
      "0\n",
      "0\n"
     ]
    }
   ],
   "source": [
    "print(sum(X_train[\"Mileage\"].isnull()))\n",
    "print(sum(X_test[\"Mileage\"].isnull()))"
   ]
  },
  {
   "cell_type": "code",
   "execution_count": 23,
   "metadata": {},
   "outputs": [
    {
     "data": {
      "image/png": "[encoded data removed]",
      "text/plain": [
       "<Figure size 800x800 with 1 Axes>"
      ]
     },
     "metadata": {},
     "output_type": "display_data"
    }
   ],
   "source": [
    "# Mileage vs age of the car\n",
    "plt.figure(figsize=(8,8))\n",
    "ml = X_train[\"Mileage\"]\n",
    "yr = X_train[\"Year\"]\n",
    "sns.boxplot(x=yr, y=ml, data=data,\n",
    "            whis=[0, 100], width=.8, palette=\"vlag\")\n",
    "plt.show()"
   ]
  },
  {
   "cell_type": "markdown",
   "metadata": {},
   "source": [
    "### Engine, Power and Seats\n",
    "* Removing the units of the recorded data, as they aren't needed for our prediction\n",
    "* The `Engine` values are defined in CC so I need to remove `CC` from the data. Similarly, `Power` has bhp, so remove `bhp` from it."
   ]
  },
  {
   "cell_type": "code",
   "execution_count": 24,
   "metadata": {
    "scrolled": true
   },
   "outputs": [
    {
     "data": {
      "text/html": [
       "<div>\n",
       "<style scoped>\n",
       "    .dataframe tbody tr th:only-of-type {\n",
       "        vertical-align: middle;\n",
       "    }\n",
       "\n",
       "    .dataframe tbody tr th {\n",
       "        vertical-align: top;\n",
       "    }\n",
       "\n",
       "    .dataframe thead th {\n",
       "        text-align: right;\n",
       "    }\n",
       "</style>\n",
       "<table border=\"1\" class=\"dataframe\">\n",
       "  <thead>\n",
       "    <tr style=\"text-align: right;\">\n",
       "      <th></th>\n",
       "      <th>Year</th>\n",
       "      <th>Kilometers_Driven</th>\n",
       "      <th>Fuel_Type</th>\n",
       "      <th>Transmission</th>\n",
       "      <th>Owner_Type</th>\n",
       "      <th>Mileage</th>\n",
       "      <th>Engine</th>\n",
       "      <th>Power</th>\n",
       "      <th>Seats</th>\n",
       "      <th>Manufacturer</th>\n",
       "    </tr>\n",
       "  </thead>\n",
       "  <tbody>\n",
       "    <tr>\n",
       "      <th>2435</th>\n",
       "      <td>7</td>\n",
       "      <td>61823</td>\n",
       "      <td>Petrol</td>\n",
       "      <td>Manual</td>\n",
       "      <td>First</td>\n",
       "      <td>18.6</td>\n",
       "      <td>1197 CC</td>\n",
       "      <td>81.83 bhp</td>\n",
       "      <td>5.0</td>\n",
       "      <td>Hyundai</td>\n",
       "    </tr>\n",
       "    <tr>\n",
       "      <th>3507</th>\n",
       "      <td>11</td>\n",
       "      <td>155566</td>\n",
       "      <td>Diesel</td>\n",
       "      <td>Manual</td>\n",
       "      <td>Second</td>\n",
       "      <td>9.5</td>\n",
       "      <td>2835 CC</td>\n",
       "      <td>118.6 bhp</td>\n",
       "      <td>6.0</td>\n",
       "      <td>Mitsubishi</td>\n",
       "    </tr>\n",
       "    <tr>\n",
       "      <th>3723</th>\n",
       "      <td>8</td>\n",
       "      <td>63714</td>\n",
       "      <td>Petrol</td>\n",
       "      <td>Manual</td>\n",
       "      <td>First</td>\n",
       "      <td>24.7</td>\n",
       "      <td>796 CC</td>\n",
       "      <td>47.3 bhp</td>\n",
       "      <td>5.0</td>\n",
       "      <td>Maruti</td>\n",
       "    </tr>\n",
       "  </tbody>\n",
       "</table>\n",
       "</div>"
      ],
      "text/plain": [
       "      Year  Kilometers_Driven Fuel_Type Transmission Owner_Type  Mileage  \\\n",
       "2435     7              61823    Petrol       Manual      First     18.6   \n",
       "3507    11             155566    Diesel       Manual     Second      9.5   \n",
       "3723     8              63714    Petrol       Manual      First     24.7   \n",
       "\n",
       "       Engine      Power  Seats Manufacturer  \n",
       "2435  1197 CC  81.83 bhp    5.0      Hyundai  \n",
       "3507  2835 CC  118.6 bhp    6.0   Mitsubishi  \n",
       "3723   796 CC   47.3 bhp    5.0       Maruti  "
      ]
     },
     "execution_count": 24,
     "metadata": {},
     "output_type": "execute_result"
    }
   ],
   "source": [
    "X_train.sample(3)"
   ]
  },
  {
   "cell_type": "code",
   "execution_count": 25,
   "metadata": {
    "scrolled": true
   },
   "outputs": [
    {
     "data": {
      "text/html": [
       "<div>\n",
       "<style scoped>\n",
       "    .dataframe tbody tr th:only-of-type {\n",
       "        vertical-align: middle;\n",
       "    }\n",
       "\n",
       "    .dataframe tbody tr th {\n",
       "        vertical-align: top;\n",
       "    }\n",
       "\n",
       "    .dataframe thead th {\n",
       "        text-align: right;\n",
       "    }\n",
       "</style>\n",
       "<table border=\"1\" class=\"dataframe\">\n",
       "  <thead>\n",
       "    <tr style=\"text-align: right;\">\n",
       "      <th></th>\n",
       "      <th>Year</th>\n",
       "      <th>Kilometers_Driven</th>\n",
       "      <th>Fuel_Type</th>\n",
       "      <th>Transmission</th>\n",
       "      <th>Owner_Type</th>\n",
       "      <th>Mileage</th>\n",
       "      <th>Engine</th>\n",
       "      <th>Power</th>\n",
       "      <th>Seats</th>\n",
       "      <th>Manufacturer</th>\n",
       "    </tr>\n",
       "  </thead>\n",
       "  <tbody>\n",
       "    <tr>\n",
       "      <th>5333</th>\n",
       "      <td>11</td>\n",
       "      <td>63001</td>\n",
       "      <td>Diesel</td>\n",
       "      <td>Manual</td>\n",
       "      <td>Second</td>\n",
       "      <td>20.77</td>\n",
       "      <td>1248</td>\n",
       "      <td>88.76</td>\n",
       "      <td>7.0</td>\n",
       "      <td>Maruti</td>\n",
       "    </tr>\n",
       "    <tr>\n",
       "      <th>1822</th>\n",
       "      <td>6</td>\n",
       "      <td>10500</td>\n",
       "      <td>Diesel</td>\n",
       "      <td>Manual</td>\n",
       "      <td>First</td>\n",
       "      <td>25.32</td>\n",
       "      <td>1198</td>\n",
       "      <td>77.00</td>\n",
       "      <td>5.0</td>\n",
       "      <td>Mahindra</td>\n",
       "    </tr>\n",
       "    <tr>\n",
       "      <th>2638</th>\n",
       "      <td>11</td>\n",
       "      <td>90400</td>\n",
       "      <td>CNG</td>\n",
       "      <td>Manual</td>\n",
       "      <td>First</td>\n",
       "      <td>26.20</td>\n",
       "      <td>998</td>\n",
       "      <td>58.20</td>\n",
       "      <td>5.0</td>\n",
       "      <td>Maruti</td>\n",
       "    </tr>\n",
       "  </tbody>\n",
       "</table>\n",
       "</div>"
      ],
      "text/plain": [
       "      Year  Kilometers_Driven Fuel_Type Transmission Owner_Type  Mileage  \\\n",
       "5333    11              63001    Diesel       Manual     Second    20.77   \n",
       "1822     6              10500    Diesel       Manual      First    25.32   \n",
       "2638    11              90400       CNG       Manual      First    26.20   \n",
       "\n",
       "      Engine  Power  Seats Manufacturer  \n",
       "5333    1248  88.76    7.0       Maruti  \n",
       "1822    1198  77.00    5.0     Mahindra  \n",
       "2638     998  58.20    5.0       Maruti  "
      ]
     },
     "execution_count": 25,
     "metadata": {},
     "output_type": "execute_result"
    }
   ],
   "source": [
    "# value of engine volume value is extracted, as we dont want the units\n",
    "cc_train = X_train[\"Engine\"].str.split(\" \", expand = True)\n",
    "cc_test = X_test[\"Engine\"].str.split(\" \", expand = True)\n",
    "\n",
    "# now we convert the dataframe into series, and updating the engine column\n",
    "X_train[\"Engine\"] = pd.to_numeric(cc_train[0], errors = 'coerce')\n",
    "X_test[\"Engine\"] = pd.to_numeric(cc_test[0], errors = 'coerce')\n",
    "\n",
    "# similarly we do it for power column\n",
    "bhp_train = X_train[\"Power\"].str.split(\" \", expand = True)\n",
    "bhp_test = X_test[\"Power\"].str.split(\" \", expand = True)\n",
    "\n",
    "X_train[\"Power\"] = pd.to_numeric(bhp_train[0], errors = 'coerce')\n",
    "X_test[\"Power\"] = pd.to_numeric(bhp_test[0], errors = 'coerce')\n",
    "\n",
    "X_train.head(3)"
   ]
  },
  {
   "cell_type": "markdown",
   "metadata": {},
   "source": [
    "Now, filling the null values present in  `engine` , `power`, `seats`, columns with the mean of other data in the same column "
   ]
  },
  {
   "cell_type": "code",
   "execution_count": 26,
   "metadata": {},
   "outputs": [],
   "source": [
    "# filling the null valued data with the mean of other data in the same column\n",
    "X_train[\"Engine\"].fillna(X_train[\"Engine\"].astype(\"float64\").mean(), inplace = True)\n",
    "X_test[\"Engine\"].fillna(X_train[\"Engine\"].astype(\"float64\").mean(), inplace = True)\n",
    "\n",
    "X_train[\"Power\"].fillna(X_train[\"Power\"].astype(\"float64\").mean(), inplace = True)\n",
    "X_test[\"Power\"].fillna(X_train[\"Power\"].astype(\"float64\").mean(), inplace = True)\n",
    "\n",
    "X_train[\"Seats\"].fillna(X_train[\"Seats\"].astype(\"float64\").mean(), inplace = True)\n",
    "X_test[\"Seats\"].fillna(X_train[\"Seats\"].astype(\"float64\").mean(), inplace = True)"
   ]
  },
  {
   "cell_type": "markdown",
   "metadata": {},
   "source": [
    "### Kilometers Driven\n",
    "\n",
    "`Kilometers_Driven` is a numerical column with a certain range of values."
   ]
  },
  {
   "cell_type": "code",
   "execution_count": 27,
   "metadata": {
    "scrolled": true
   },
   "outputs": [
    {
     "data": {
      "text/plain": [
       "5333     63001\n",
       "1822     10500\n",
       "2638     90400\n",
       "2931     42000\n",
       "5151    107023\n",
       "         ...  \n",
       "3799     30000\n",
       "5233     75000\n",
       "5268     28000\n",
       "5433     34952\n",
       "865     102000\n",
       "Name: Kilometers_Driven, Length: 4182, dtype: int64"
      ]
     },
     "execution_count": 27,
     "metadata": {},
     "output_type": "execute_result"
    }
   ],
   "source": [
    "X_train[\"Kilometers_Driven\"]"
   ]
  },
  {
   "cell_type": "code",
   "execution_count": 28,
   "metadata": {},
   "outputs": [
    {
     "data": {
      "text/plain": [
       "[<matplotlib.axis.XTick at 0x21c7cd4c290>,\n",
       " <matplotlib.axis.XTick at 0x21c7cd04710>,\n",
       " <matplotlib.axis.XTick at 0x21c7ccf0dd0>,\n",
       " <matplotlib.axis.XTick at 0x21c7dbd0f50>,\n",
       " <matplotlib.axis.XTick at 0x21c7dce8b50>,\n",
       " <matplotlib.axis.XTick at 0x21c7dcea290>,\n",
       " <matplotlib.axis.XTick at 0x21c7dcec550>]"
      ]
     },
     "execution_count": 28,
     "metadata": {},
     "output_type": "execute_result"
    },
    {
     "data": {
      "image/png": "[encoded data removed]",
      "text/plain": [
       "<Figure size 1500x500 with 1 Axes>"
      ]
     },
     "metadata": {},
     "output_type": "display_data"
    }
   ],
   "source": [
    "import matplotlib as mpl\n",
    "kmd = X_train[\"Kilometers_Driven\"]\n",
    "ft = X_train[\"Fuel_Type\"]\n",
    "tr = X_train[\"Transmission\"]\n",
    "\n",
    "f, ax = plt.subplots(figsize=(15, 5))\n",
    "sns.despine(f)\n",
    "\n",
    "sns.histplot(\n",
    "    X_train,\n",
    "    x=\"Kilometers_Driven\", hue=\"Fuel_Type\",\n",
    "    multiple=\"stack\",\n",
    "    linewidth=.5,\n",
    "    log_scale=True,\n",
    ")\n",
    "\n",
    "ax.xaxis.set_major_formatter(mpl.ticker.ScalarFormatter())\n",
    "ax.set_xticks([1000,5000,10000, 20000, 50000,100000, 200000])"
   ]
  },
  {
   "cell_type": "markdown",
   "metadata": {},
   "source": [
    "* As the data range is really varied and the high values might affect prediction.\n",
    "* thus, it is really important that scaling be applied to this column to make sure the data is balanced"
   ]
  },
  {
   "cell_type": "markdown",
   "metadata": {},
   "source": [
    "## Data Processing\n",
    "\n",
    "* Now that we have worked with the training data, let's create dummy columns for categorical columns using one-hot encoding before we begin training.\n",
    "* **One hot encoding** is a technique that we use to represent **categorical variables as numerical values** in a machine learning model."
   ]
  },
  {
   "cell_type": "code",
   "execution_count": 29,
   "metadata": {
    "scrolled": true
   },
   "outputs": [
    {
     "data": {
      "text/html": [
       "<div>\n",
       "<style scoped>\n",
       "    .dataframe tbody tr th:only-of-type {\n",
       "        vertical-align: middle;\n",
       "    }\n",
       "\n",
       "    .dataframe tbody tr th {\n",
       "        vertical-align: top;\n",
       "    }\n",
       "\n",
       "    .dataframe thead th {\n",
       "        text-align: right;\n",
       "    }\n",
       "</style>\n",
       "<table border=\"1\" class=\"dataframe\">\n",
       "  <thead>\n",
       "    <tr style=\"text-align: right;\">\n",
       "      <th></th>\n",
       "      <th>Year</th>\n",
       "      <th>Kilometers_Driven</th>\n",
       "      <th>Mileage</th>\n",
       "      <th>Engine</th>\n",
       "      <th>Power</th>\n",
       "      <th>Seats</th>\n",
       "      <th>Manufacturer_Audi</th>\n",
       "      <th>Manufacturer_BMW</th>\n",
       "      <th>Manufacturer_Bentley</th>\n",
       "      <th>Manufacturer_Chevrolet</th>\n",
       "      <th>...</th>\n",
       "      <th>Manufacturer_Toyota</th>\n",
       "      <th>Manufacturer_Volkswagen</th>\n",
       "      <th>Manufacturer_Volvo</th>\n",
       "      <th>Fuel_Type_Diesel</th>\n",
       "      <th>Fuel_Type_LPG</th>\n",
       "      <th>Fuel_Type_Petrol</th>\n",
       "      <th>Transmission_Manual</th>\n",
       "      <th>Owner_Type_Fourth &amp; Above</th>\n",
       "      <th>Owner_Type_Second</th>\n",
       "      <th>Owner_Type_Third</th>\n",
       "    </tr>\n",
       "  </thead>\n",
       "  <tbody>\n",
       "    <tr>\n",
       "      <th>4083</th>\n",
       "      <td>5</td>\n",
       "      <td>26731</td>\n",
       "      <td>21.10</td>\n",
       "      <td>998</td>\n",
       "      <td>100.00</td>\n",
       "      <td>5.0</td>\n",
       "      <td>0</td>\n",
       "      <td>0</td>\n",
       "      <td>0</td>\n",
       "      <td>0</td>\n",
       "      <td>...</td>\n",
       "      <td>0</td>\n",
       "      <td>0</td>\n",
       "      <td>0</td>\n",
       "      <td>0</td>\n",
       "      <td>0</td>\n",
       "      <td>1</td>\n",
       "      <td>1</td>\n",
       "      <td>0</td>\n",
       "      <td>0</td>\n",
       "      <td>0</td>\n",
       "    </tr>\n",
       "    <tr>\n",
       "      <th>3847</th>\n",
       "      <td>12</td>\n",
       "      <td>70000</td>\n",
       "      <td>12.05</td>\n",
       "      <td>2179</td>\n",
       "      <td>120.00</td>\n",
       "      <td>8.0</td>\n",
       "      <td>0</td>\n",
       "      <td>0</td>\n",
       "      <td>0</td>\n",
       "      <td>0</td>\n",
       "      <td>...</td>\n",
       "      <td>0</td>\n",
       "      <td>0</td>\n",
       "      <td>0</td>\n",
       "      <td>1</td>\n",
       "      <td>0</td>\n",
       "      <td>0</td>\n",
       "      <td>1</td>\n",
       "      <td>0</td>\n",
       "      <td>1</td>\n",
       "      <td>0</td>\n",
       "    </tr>\n",
       "    <tr>\n",
       "      <th>3620</th>\n",
       "      <td>10</td>\n",
       "      <td>93000</td>\n",
       "      <td>20.50</td>\n",
       "      <td>1598</td>\n",
       "      <td>103.50</td>\n",
       "      <td>5.0</td>\n",
       "      <td>0</td>\n",
       "      <td>0</td>\n",
       "      <td>0</td>\n",
       "      <td>0</td>\n",
       "      <td>...</td>\n",
       "      <td>0</td>\n",
       "      <td>0</td>\n",
       "      <td>0</td>\n",
       "      <td>1</td>\n",
       "      <td>0</td>\n",
       "      <td>0</td>\n",
       "      <td>1</td>\n",
       "      <td>0</td>\n",
       "      <td>0</td>\n",
       "      <td>0</td>\n",
       "    </tr>\n",
       "    <tr>\n",
       "      <th>897</th>\n",
       "      <td>7</td>\n",
       "      <td>20487</td>\n",
       "      <td>22.70</td>\n",
       "      <td>799</td>\n",
       "      <td>53.64</td>\n",
       "      <td>5.0</td>\n",
       "      <td>0</td>\n",
       "      <td>0</td>\n",
       "      <td>0</td>\n",
       "      <td>0</td>\n",
       "      <td>...</td>\n",
       "      <td>0</td>\n",
       "      <td>0</td>\n",
       "      <td>0</td>\n",
       "      <td>0</td>\n",
       "      <td>0</td>\n",
       "      <td>1</td>\n",
       "      <td>1</td>\n",
       "      <td>0</td>\n",
       "      <td>0</td>\n",
       "      <td>0</td>\n",
       "    </tr>\n",
       "    <tr>\n",
       "      <th>1855</th>\n",
       "      <td>12</td>\n",
       "      <td>100000</td>\n",
       "      <td>22.69</td>\n",
       "      <td>1995</td>\n",
       "      <td>190.00</td>\n",
       "      <td>5.0</td>\n",
       "      <td>0</td>\n",
       "      <td>1</td>\n",
       "      <td>0</td>\n",
       "      <td>0</td>\n",
       "      <td>...</td>\n",
       "      <td>0</td>\n",
       "      <td>0</td>\n",
       "      <td>0</td>\n",
       "      <td>1</td>\n",
       "      <td>0</td>\n",
       "      <td>0</td>\n",
       "      <td>0</td>\n",
       "      <td>0</td>\n",
       "      <td>1</td>\n",
       "      <td>0</td>\n",
       "    </tr>\n",
       "  </tbody>\n",
       "</table>\n",
       "<p>5 rows × 42 columns</p>\n",
       "</div>"
      ],
      "text/plain": [
       "      Year  Kilometers_Driven  Mileage  Engine   Power  Seats  \\\n",
       "4083     5              26731    21.10     998  100.00    5.0   \n",
       "3847    12              70000    12.05    2179  120.00    8.0   \n",
       "3620    10              93000    20.50    1598  103.50    5.0   \n",
       "897      7              20487    22.70     799   53.64    5.0   \n",
       "1855    12             100000    22.69    1995  190.00    5.0   \n",
       "\n",
       "      Manufacturer_Audi  Manufacturer_BMW  Manufacturer_Bentley  \\\n",
       "4083                  0                 0                     0   \n",
       "3847                  0                 0                     0   \n",
       "3620                  0                 0                     0   \n",
       "897                   0                 0                     0   \n",
       "1855                  0                 1                     0   \n",
       "\n",
       "      Manufacturer_Chevrolet  ...  Manufacturer_Toyota  \\\n",
       "4083                       0  ...                    0   \n",
       "3847                       0  ...                    0   \n",
       "3620                       0  ...                    0   \n",
       "897                        0  ...                    0   \n",
       "1855                       0  ...                    0   \n",
       "\n",
       "      Manufacturer_Volkswagen  Manufacturer_Volvo  Fuel_Type_Diesel  \\\n",
       "4083                        0                   0                 0   \n",
       "3847                        0                   0                 1   \n",
       "3620                        0                   0                 1   \n",
       "897                         0                   0                 0   \n",
       "1855                        0                   0                 1   \n",
       "\n",
       "      Fuel_Type_LPG  Fuel_Type_Petrol  Transmission_Manual  \\\n",
       "4083              0                 1                    1   \n",
       "3847              0                 0                    1   \n",
       "3620              0                 0                    1   \n",
       "897               0                 1                    1   \n",
       "1855              0                 0                    0   \n",
       "\n",
       "      Owner_Type_Fourth & Above  Owner_Type_Second  Owner_Type_Third  \n",
       "4083                          0                  0                 0  \n",
       "3847                          0                  1                 0  \n",
       "3620                          0                  0                 0  \n",
       "897                           0                  0                 0  \n",
       "1855                          0                  1                 0  \n",
       "\n",
       "[5 rows x 42 columns]"
      ]
     },
     "execution_count": 29,
     "metadata": {},
     "output_type": "execute_result"
    }
   ],
   "source": [
    "X_train = pd.get_dummies(X_train,\n",
    "                         columns = [\"Manufacturer\", \"Fuel_Type\", \"Transmission\", \"Owner_Type\"],\n",
    "                         drop_first = True)\n",
    "X_train.sample(5)\n",
    "\n",
    "#the manufacturer column is categorized "
   ]
  },
  {
   "cell_type": "markdown",
   "metadata": {},
   "source": [
    "similarly we create the dummy columns for X_test data also"
   ]
  },
  {
   "cell_type": "code",
   "execution_count": 30,
   "metadata": {
    "scrolled": true
   },
   "outputs": [
    {
     "data": {
      "text/html": [
       "<div>\n",
       "<style scoped>\n",
       "    .dataframe tbody tr th:only-of-type {\n",
       "        vertical-align: middle;\n",
       "    }\n",
       "\n",
       "    .dataframe tbody tr th {\n",
       "        vertical-align: top;\n",
       "    }\n",
       "\n",
       "    .dataframe thead th {\n",
       "        text-align: right;\n",
       "    }\n",
       "</style>\n",
       "<table border=\"1\" class=\"dataframe\">\n",
       "  <thead>\n",
       "    <tr style=\"text-align: right;\">\n",
       "      <th></th>\n",
       "      <th>Year</th>\n",
       "      <th>Kilometers_Driven</th>\n",
       "      <th>Mileage</th>\n",
       "      <th>Engine</th>\n",
       "      <th>Power</th>\n",
       "      <th>Seats</th>\n",
       "      <th>Manufacturer_BMW</th>\n",
       "      <th>Manufacturer_Chevrolet</th>\n",
       "      <th>Manufacturer_Datsun</th>\n",
       "      <th>Manufacturer_Fiat</th>\n",
       "      <th>...</th>\n",
       "      <th>Manufacturer_Toyota</th>\n",
       "      <th>Manufacturer_Volkswagen</th>\n",
       "      <th>Manufacturer_Volvo</th>\n",
       "      <th>Fuel_Type_Diesel</th>\n",
       "      <th>Fuel_Type_LPG</th>\n",
       "      <th>Fuel_Type_Petrol</th>\n",
       "      <th>Transmission_Manual</th>\n",
       "      <th>Owner_Type_Fourth &amp; Above</th>\n",
       "      <th>Owner_Type_Second</th>\n",
       "      <th>Owner_Type_Third</th>\n",
       "    </tr>\n",
       "  </thead>\n",
       "  <tbody>\n",
       "    <tr>\n",
       "      <th>4154</th>\n",
       "      <td>11</td>\n",
       "      <td>62000</td>\n",
       "      <td>17.80</td>\n",
       "      <td>1248</td>\n",
       "      <td>75.00</td>\n",
       "      <td>5.0</td>\n",
       "      <td>0</td>\n",
       "      <td>0</td>\n",
       "      <td>0</td>\n",
       "      <td>0</td>\n",
       "      <td>...</td>\n",
       "      <td>0</td>\n",
       "      <td>0</td>\n",
       "      <td>0</td>\n",
       "      <td>1</td>\n",
       "      <td>0</td>\n",
       "      <td>0</td>\n",
       "      <td>1</td>\n",
       "      <td>0</td>\n",
       "      <td>0</td>\n",
       "      <td>0</td>\n",
       "    </tr>\n",
       "    <tr>\n",
       "      <th>4831</th>\n",
       "      <td>9</td>\n",
       "      <td>25000</td>\n",
       "      <td>22.90</td>\n",
       "      <td>1248</td>\n",
       "      <td>74.00</td>\n",
       "      <td>5.0</td>\n",
       "      <td>0</td>\n",
       "      <td>0</td>\n",
       "      <td>0</td>\n",
       "      <td>0</td>\n",
       "      <td>...</td>\n",
       "      <td>0</td>\n",
       "      <td>0</td>\n",
       "      <td>0</td>\n",
       "      <td>1</td>\n",
       "      <td>0</td>\n",
       "      <td>0</td>\n",
       "      <td>1</td>\n",
       "      <td>0</td>\n",
       "      <td>0</td>\n",
       "      <td>0</td>\n",
       "    </tr>\n",
       "    <tr>\n",
       "      <th>3153</th>\n",
       "      <td>9</td>\n",
       "      <td>57676</td>\n",
       "      <td>19.10</td>\n",
       "      <td>1197</td>\n",
       "      <td>85.80</td>\n",
       "      <td>5.0</td>\n",
       "      <td>0</td>\n",
       "      <td>0</td>\n",
       "      <td>0</td>\n",
       "      <td>0</td>\n",
       "      <td>...</td>\n",
       "      <td>0</td>\n",
       "      <td>0</td>\n",
       "      <td>0</td>\n",
       "      <td>0</td>\n",
       "      <td>0</td>\n",
       "      <td>1</td>\n",
       "      <td>1</td>\n",
       "      <td>0</td>\n",
       "      <td>0</td>\n",
       "      <td>0</td>\n",
       "    </tr>\n",
       "    <tr>\n",
       "      <th>2106</th>\n",
       "      <td>8</td>\n",
       "      <td>110000</td>\n",
       "      <td>15.73</td>\n",
       "      <td>1968</td>\n",
       "      <td>174.33</td>\n",
       "      <td>5.0</td>\n",
       "      <td>0</td>\n",
       "      <td>0</td>\n",
       "      <td>0</td>\n",
       "      <td>0</td>\n",
       "      <td>...</td>\n",
       "      <td>0</td>\n",
       "      <td>0</td>\n",
       "      <td>0</td>\n",
       "      <td>1</td>\n",
       "      <td>0</td>\n",
       "      <td>0</td>\n",
       "      <td>0</td>\n",
       "      <td>0</td>\n",
       "      <td>0</td>\n",
       "      <td>0</td>\n",
       "    </tr>\n",
       "    <tr>\n",
       "      <th>3191</th>\n",
       "      <td>8</td>\n",
       "      <td>48300</td>\n",
       "      <td>20.00</td>\n",
       "      <td>2143</td>\n",
       "      <td>107.30</td>\n",
       "      <td>5.0</td>\n",
       "      <td>0</td>\n",
       "      <td>0</td>\n",
       "      <td>0</td>\n",
       "      <td>0</td>\n",
       "      <td>...</td>\n",
       "      <td>0</td>\n",
       "      <td>0</td>\n",
       "      <td>0</td>\n",
       "      <td>1</td>\n",
       "      <td>0</td>\n",
       "      <td>0</td>\n",
       "      <td>0</td>\n",
       "      <td>0</td>\n",
       "      <td>0</td>\n",
       "      <td>0</td>\n",
       "    </tr>\n",
       "  </tbody>\n",
       "</table>\n",
       "<p>5 rows × 37 columns</p>\n",
       "</div>"
      ],
      "text/plain": [
       "      Year  Kilometers_Driven  Mileage  Engine   Power  Seats  \\\n",
       "4154    11              62000    17.80    1248   75.00    5.0   \n",
       "4831     9              25000    22.90    1248   74.00    5.0   \n",
       "3153     9              57676    19.10    1197   85.80    5.0   \n",
       "2106     8             110000    15.73    1968  174.33    5.0   \n",
       "3191     8              48300    20.00    2143  107.30    5.0   \n",
       "\n",
       "      Manufacturer_BMW  Manufacturer_Chevrolet  Manufacturer_Datsun  \\\n",
       "4154                 0                       0                    0   \n",
       "4831                 0                       0                    0   \n",
       "3153                 0                       0                    0   \n",
       "2106                 0                       0                    0   \n",
       "3191                 0                       0                    0   \n",
       "\n",
       "      Manufacturer_Fiat  ...  Manufacturer_Toyota  Manufacturer_Volkswagen  \\\n",
       "4154                  0  ...                    0                        0   \n",
       "4831                  0  ...                    0                        0   \n",
       "3153                  0  ...                    0                        0   \n",
       "2106                  0  ...                    0                        0   \n",
       "3191                  0  ...                    0                        0   \n",
       "\n",
       "      Manufacturer_Volvo  Fuel_Type_Diesel  Fuel_Type_LPG  Fuel_Type_Petrol  \\\n",
       "4154                   0                 1              0                 0   \n",
       "4831                   0                 1              0                 0   \n",
       "3153                   0                 0              0                 1   \n",
       "2106                   0                 1              0                 0   \n",
       "3191                   0                 1              0                 0   \n",
       "\n",
       "      Transmission_Manual  Owner_Type_Fourth & Above  Owner_Type_Second  \\\n",
       "4154                    1                          0                  0   \n",
       "4831                    1                          0                  0   \n",
       "3153                    1                          0                  0   \n",
       "2106                    0                          0                  0   \n",
       "3191                    0                          0                  0   \n",
       "\n",
       "      Owner_Type_Third  \n",
       "4154                 0  \n",
       "4831                 0  \n",
       "3153                 0  \n",
       "2106                 0  \n",
       "3191                 0  \n",
       "\n",
       "[5 rows x 37 columns]"
      ]
     },
     "execution_count": 30,
     "metadata": {},
     "output_type": "execute_result"
    }
   ],
   "source": [
    "X_test = pd.get_dummies(X_test,\n",
    "                         columns = [\"Manufacturer\", \"Fuel_Type\", \"Transmission\", \"Owner_Type\"],\n",
    "                         drop_first = True)\n",
    "X_test.sample(5)"
   ]
  },
  {
   "cell_type": "markdown",
   "metadata": {},
   "source": [
    "It might be possible that the dummy column creation would be different in test and train data, thus, I'd fill in all missing columns with zeros."
   ]
  },
  {
   "cell_type": "code",
   "execution_count": 31,
   "metadata": {},
   "outputs": [],
   "source": [
    "missing_cols = set(X_train.columns) - set(X_test.columns)\n",
    "for col in missing_cols:\n",
    "    X_test[col] = 0\n",
    "X_test = X_test[X_train.columns]\n"
   ]
  },
  {
   "cell_type": "code",
   "execution_count": 34,
   "metadata": {
    "scrolled": true
   },
   "outputs": [
    {
     "data": {
      "text/plain": [
       "0"
      ]
     },
     "execution_count": 34,
     "metadata": {},
     "output_type": "execute_result"
    }
   ],
   "source": [
    "ytrain.isnull().sum()"
   ]
  },
  {
   "cell_type": "markdown",
   "metadata": {},
   "source": [
    "## Training and predicting"
   ]
  },
  {
   "cell_type": "markdown",
   "metadata": {},
   "source": [
    "`Standardizing the data`\n",
    "* StandardScaler is a preprocessing technique used in machine learning to standardize the features of a dataset, to ensure the data are in same scale for modeling\n",
    "* its done by removing the mean and scales each variable to unit variance"
   ]
  },
  {
   "cell_type": "code",
   "execution_count": 35,
   "metadata": {},
   "outputs": [],
   "source": [
    "standardScaler = StandardScaler()\n",
    "standardScaler.fit(X_train)\n",
    "X_train = standardScaler.transform(X_train)\n",
    "X_test = standardScaler.transform(X_test)"
   ]
  },
  {
   "cell_type": "markdown",
   "metadata": {},
   "source": [
    "* so now we will create a **Linear Regression** model and a **Random Forest** model to train on the data and use it for future predictions\n",
    "* and compare the score of the two models"
   ]
  },
  {
   "cell_type": "code",
   "execution_count": 36,
   "metadata": {},
   "outputs": [
    {
     "name": "stdout",
     "output_type": "stream",
     "text": [
      "0.6975804373254642\n"
     ]
    },
    {
     "data": {
      "text/plain": [
       "<matplotlib.collections.PathCollection at 0x21c7e0fe9d0>"
      ]
     },
     "execution_count": 36,
     "metadata": {},
     "output_type": "execute_result"
    },
    {
     "data": {
      "image/png": "[encoded data removed]",
      "text/plain": [
       "<Figure size 800x500 with 1 Axes>"
      ]
     },
     "metadata": {},
     "output_type": "display_data"
    }
   ],
   "source": [
    "linearRegression = LinearRegression()\n",
    "linearRegression.fit(X_train, ytrain)\n",
    "y_pred = linearRegression.predict(X_test)\n",
    "# r2_score is a measurement done to check the goodness and fit of the model\n",
    "# like how well the regression data approximates the actual data\n",
    "print(r2_score(ytest, y_pred))\n",
    "\n",
    "\n",
    "#labels\n",
    "plt.figure(figsize=(8,5))\n",
    "plt.title(\"y_test data vs y_predicted data\")\n",
    "plt.xlabel(\"y_test\")\n",
    "plt.ylabel(\"y_pred\")\n",
    "plt.scatter(ytest, y_pred)"
   ]
  },
  {
   "cell_type": "markdown",
   "metadata": {},
   "source": [
    "The `Linear regression` model performed the best with a R2 score of approx **0.697**"
   ]
  },
  {
   "cell_type": "code",
   "execution_count": 37,
   "metadata": {
    "scrolled": false
   },
   "outputs": [
    {
     "name": "stdout",
     "output_type": "stream",
     "text": [
      "0.8676021558159818\n"
     ]
    },
    {
     "data": {
      "text/plain": [
       "<matplotlib.collections.PathCollection at 0x21c7fcb1b50>"
      ]
     },
     "execution_count": 37,
     "metadata": {},
     "output_type": "execute_result"
    },
    {
     "data": {
      "image/png": "[encoded data removed]",
      "text/plain": [
       "<Figure size 800x500 with 1 Axes>"
      ]
     },
     "metadata": {},
     "output_type": "display_data"
    }
   ],
   "source": [
    "rf = RandomForestRegressor(n_estimators = 100)\n",
    "rf.fit(X_train, ytrain)\n",
    "y_pred = rf.predict(X_test)\n",
    "print(r2_score(ytest, y_pred))\n",
    "\n",
    "#labels\n",
    "plt.figure(figsize=(8,5))\n",
    "plt.title(\"y_test data vs y_predicted data\")\n",
    "plt.xlabel(\"y_test\")\n",
    "plt.ylabel(\"y_pred\")\n",
    "plt.scatter(ytest, y_pred)"
   ]
  },
  {
   "cell_type": "markdown",
   "metadata": {},
   "source": [
    "The `Random Forest` model performed the best with a R2 score of approx **0.867**."
   ]
  }
 ],
 "metadata": {
  "kernelspec": {
   "display_name": "Python 3 (ipykernel)",
   "language": "python",
   "name": "python3"
  },
  "language_info": {
   "codemirror_mode": {
    "name": "ipython",
    "version": 3
   },
   "file_extension": ".py",
   "mimetype": "text/x-python",
   "name": "python",
   "nbconvert_exporter": "python",
   "pygments_lexer": "ipython3",
   "version": "3.11.4"
  }
 },
 "nbformat": 4,
 "nbformat_minor": 2
}
